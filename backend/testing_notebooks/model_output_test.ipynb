{
 "cells": [
  {
   "cell_type": "code",
   "execution_count": 12,
   "metadata": {},
   "outputs": [],
   "source": [
    "import tensorflow as tf\n",
    "import numpy as np\n"
   ]
  },
  {
   "cell_type": "code",
   "execution_count": 13,
   "metadata": {},
   "outputs": [
    {
     "name": "stderr",
     "output_type": "stream",
     "text": [
      "WARNING:absl:At this time, the v2.11+ optimizer `tf.keras.optimizers.RestoredOptimizer` runs slowly on M1/M2 Macs, please use the legacy Keras optimizer instead, located at `tf.keras.optimizers.legacy.RestoredOptimizer`.\n",
      "WARNING:absl:At this time, the v2.11+ optimizer `tf.keras.optimizers.Adam` runs slowly on M1/M2 Macs, please use the legacy Keras optimizer instead, located at `tf.keras.optimizers.legacy.Adam`.\n"
     ]
    },
    {
     "name": "stdout",
     "output_type": "stream",
     "text": [
      "[youtube] Extracting URL: https://www.youtube.com/watch?v=DEJxtwrAhsc&ab_channel=TheDude\n",
      "[youtube] DEJxtwrAhsc: Downloading webpage\n",
      "[youtube] DEJxtwrAhsc: Downloading ios player API JSON\n",
      "[youtube] DEJxtwrAhsc: Downloading android player API JSON\n",
      "[youtube] DEJxtwrAhsc: Downloading m3u8 information\n",
      "[info] DEJxtwrAhsc: Downloading 1 format(s): 614+140\n",
      "[hlsnative] Downloading m3u8 manifest\n",
      "[hlsnative] Total fragments: 57\n",
      "[download] Destination: /var/folders/yn/1ryx5r916kbdyq0ly4_ddqsh0000gn/T/tmpw7790avb/DEJxtwrAhsc.f614.mp4\n",
      "[download] 100% of   11.12MiB in 00:00:04 at 2.40MiB/s                   \n",
      "[download] Destination: /var/folders/yn/1ryx5r916kbdyq0ly4_ddqsh0000gn/T/tmpw7790avb/DEJxtwrAhsc.f140.m4a\n",
      "[download] 100% of    4.68MiB in 00:00:00 at 5.30MiB/s   \n",
      "[Merger] Merging formats into \"/var/folders/yn/1ryx5r916kbdyq0ly4_ddqsh0000gn/T/tmpw7790avb/DEJxtwrAhsc.mp4\"\n",
      "Deleting original file /var/folders/yn/1ryx5r916kbdyq0ly4_ddqsh0000gn/T/tmpw7790avb/DEJxtwrAhsc.f140.m4a (pass -k to keep)\n",
      "Deleting original file /var/folders/yn/1ryx5r916kbdyq0ly4_ddqsh0000gn/T/tmpw7790avb/DEJxtwrAhsc.f614.mp4 (pass -k to keep)\n",
      "MoviePy - Writing audio in /var/folders/yn/1ryx5r916kbdyq0ly4_ddqsh0000gn/T/tmpw7790avb/output.wav\n"
     ]
    },
    {
     "name": "stderr",
     "output_type": "stream",
     "text": [
      "                                                                      \r"
     ]
    },
    {
     "name": "stdout",
     "output_type": "stream",
     "text": [
      "MoviePy - Done.\n"
     ]
    }
   ],
   "source": [
    "loaded_model = tf.keras.models.load_model('../genre_categorization/')\n",
    "%run ./youtubeaudio.ipynb"
   ]
  },
  {
   "cell_type": "code",
   "execution_count": 14,
   "metadata": {},
   "outputs": [
    {
     "name": "stdout",
     "output_type": "stream",
     "text": [
      "[youtube] Extracting URL: https://www.youtube.com/watch?v=DEJxtwrAhsc\n",
      "[youtube] DEJxtwrAhsc: Downloading webpage\n",
      "[youtube] DEJxtwrAhsc: Downloading ios player API JSON\n",
      "[youtube] DEJxtwrAhsc: Downloading android player API JSON\n",
      "[youtube] DEJxtwrAhsc: Downloading m3u8 information\n",
      "[info] DEJxtwrAhsc: Downloading 1 format(s): 614+140\n",
      "[hlsnative] Downloading m3u8 manifest\n",
      "[hlsnative] Total fragments: 57\n",
      "[download] Destination: /var/folders/yn/1ryx5r916kbdyq0ly4_ddqsh0000gn/T/tmpwzrd2tpp/DEJxtwrAhsc.f614.mp4\n",
      "[download] 100% of   11.12MiB in 00:00:05 at 2.05MiB/s                   \n",
      "[download] Destination: /var/folders/yn/1ryx5r916kbdyq0ly4_ddqsh0000gn/T/tmpwzrd2tpp/DEJxtwrAhsc.f140.m4a\n",
      "[download] 100% of    4.68MiB in 00:00:00 at 5.24MiB/s   \n",
      "[Merger] Merging formats into \"/var/folders/yn/1ryx5r916kbdyq0ly4_ddqsh0000gn/T/tmpwzrd2tpp/DEJxtwrAhsc.mp4\"\n",
      "Deleting original file /var/folders/yn/1ryx5r916kbdyq0ly4_ddqsh0000gn/T/tmpwzrd2tpp/DEJxtwrAhsc.f140.m4a (pass -k to keep)\n",
      "Deleting original file /var/folders/yn/1ryx5r916kbdyq0ly4_ddqsh0000gn/T/tmpwzrd2tpp/DEJxtwrAhsc.f614.mp4 (pass -k to keep)\n",
      "MoviePy - Writing audio in /var/folders/yn/1ryx5r916kbdyq0ly4_ddqsh0000gn/T/tmpwzrd2tpp/output.wav\n"
     ]
    },
    {
     "name": "stderr",
     "output_type": "stream",
     "text": [
      "                                                                      \r"
     ]
    },
    {
     "name": "stdout",
     "output_type": "stream",
     "text": [
      "MoviePy - Done.\n"
     ]
    }
   ],
   "source": [
    "np_spect = process_youtube_link('https://www.youtube.com/watch?v=DEJxtwrAhsc') "
   ]
  },
  {
   "cell_type": "code",
   "execution_count": 15,
   "metadata": {},
   "outputs": [
    {
     "name": "stdout",
     "output_type": "stream",
     "text": [
      "1/1 [==============================] - 0s 128ms/step\n",
      "Top Prediction: hiphop\n",
      "Top-N Matching Genres:\n",
      "    Prediction 1: hiphop with 73.36% confidence.\n",
      "    Prediction 2: rock with 9.03% confidence.\n",
      "    Prediction 3: blues with 4.80% confidence.\n",
      "    Prediction 4: pop with 3.54% confidence.\n",
      "    Prediction 5: reggae with 2.19% confidence.\n",
      "    Prediction 6: disco with 1.33% confidence.\n",
      "    Prediction 7: metal with 1.26% confidence.\n",
      "    Prediction 8: classical with 0.18% confidence.\n",
      "    Prediction 9: country with 0.14% confidence.\n",
      "    Prediction 10: jazz with 0.01% confidence.\n",
      "{'top_prediction': 'hiphop', 'results': {'hiphop': 73.35648536682129, 'rock': 9.02743935585022, 'blues': 4.798301060994466, 'pop': 3.5397360722223916, 'reggae': 2.188955247402191, 'disco': 1.334816962480545, 'metal': 1.2559657295544941, 'classical': 0.1817554080237945, 'country': 0.1441373179356257, 'jazz': 0.005744247270437579}}\n"
     ]
    }
   ],
   "source": [
    "class_names = ['blues', 'classical', 'country', 'disco', 'hiphop', 'jazz', 'metal', 'pop', 'reggae', 'rock']\n",
    "\n",
    "prediction = loaded_model.predict(np_spect)\n",
    "\n",
    "# Summing up probabilities across rows\n",
    "summed_probabilities = np.sum(prediction, axis=0)\n",
    "\n",
    "top_n = 10\n",
    "\n",
    "# Get the top prediction and top n most likely options\n",
    "top_prediction = class_names[np.argmax(summed_probabilities)]\n",
    "top_n_indices = np.argsort(-summed_probabilities)[:top_n]\n",
    "top_n_classes = [class_names[idx] for idx in top_n_indices]\n",
    "top_n_probabilities = [summed_probabilities[idx] * 100 for idx in top_n_indices]\n",
    "\n",
    "# Print and store the top prediction and top n most likely options\n",
    "prediction_results = {}\n",
    "print(f'Top Prediction: {top_prediction}')\n",
    "print('Top-N Matching Genres:')\n",
    "for i, (predicted_class, probability) in enumerate(zip(top_n_classes, top_n_probabilities), start=1):\n",
    "    print(f'    Prediction {i}: {predicted_class} with {probability / 24:.2f}% confidence.')\n",
    "    prediction_results[predicted_class] = probability / 24\n",
    "\n",
    "# format for front end use with graphs/charts/etc.\n",
    "output = {}\n",
    "output['top_prediction'] = top_prediction\n",
    "output['results'] = prediction_results\n",
    "print(output) # return this value instead of print in final version"
   ]
  }
 ],
 "metadata": {
  "kernelspec": {
   "display_name": "Python 3",
   "language": "python",
   "name": "python3"
  },
  "language_info": {
   "codemirror_mode": {
    "name": "ipython",
    "version": 3
   },
   "file_extension": ".py",
   "mimetype": "text/x-python",
   "name": "python",
   "nbconvert_exporter": "python",
   "pygments_lexer": "ipython3",
   "version": "3.10.2"
  }
 },
 "nbformat": 4,
 "nbformat_minor": 2
}
