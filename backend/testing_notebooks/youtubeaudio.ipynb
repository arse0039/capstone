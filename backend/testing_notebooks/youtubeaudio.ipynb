{
 "cells": [
  {
   "cell_type": "markdown",
   "metadata": {},
   "source": [
    "## Overview\n",
    "\n",
    "- The main purpose of this file is to be able to receive a URL for a youTube video and download the video using the yt_dlp library. \n",
    "- Once downloaded, the video file can be converted into a .wav files using the moviepy library and then sliced into 30 second audio clips, which can be stored in an array to be converted into mel-spectrograms. These m_spects will then passed into our trained model, which will give us a genre prediction.\n",
    "- Once the process has been completed, we delete the video and audio files to preserve space. \n"
   ]
  },
  {
   "cell_type": "code",
   "execution_count": 1,
   "metadata": {},
   "outputs": [],
   "source": [
    "import yt_dlp\n",
    "import librosa\n",
    "from moviepy.editor import VideoFileClip\n",
    "import tempfile\n",
    "import os\n",
    "import numpy as np"
   ]
  },
  {
   "cell_type": "code",
   "execution_count": 2,
   "metadata": {},
   "outputs": [],
   "source": [
    "class InvalidUrlError(Exception):\n",
    "    pass"
   ]
  },
  {
   "cell_type": "code",
   "execution_count": 3,
   "metadata": {},
   "outputs": [],
   "source": [
    "def download_video(url: str, temp_dir_name) -> dict:\n",
    "    \"\"\"Receives a youTube url as a parameter, saves the video as 'audiofile.mp4'\n",
    "    and return a dictionary that stores data related to the downloaded file.\n",
    "    \"\"\"\n",
    "    if \"youtube.com\" not in url:\n",
    "        raise InvalidUrlError\n",
    "    # result stores a dict with information related to the file.\n",
    "\n",
    "    ydl_opts = {\n",
    "        \"format\": \"bestvideo[ext=mp4]+bestaudio[ext=m4a]/best[ext=mp4]/best\",\n",
    "        \"merge_output_format\": \"mp4\",\n",
    "        \"outtmpl\": f\"{temp_dir_name}/%(id)s.%(ext)s\",\n",
    "        \"noplaylist\": True,\n",
    "    }\n",
    "    ydl = yt_dlp.YoutubeDL(ydl_opts)\n",
    "\n",
    "    meta = ydl.extract_info(url, download=True)\n",
    "    video_file_path = os.path.join(temp_dir_name, f\"{meta['id']}.mp4\")\n",
    "\n",
    "    return meta, video_file_path"
   ]
  },
  {
   "cell_type": "code",
   "execution_count": 4,
   "metadata": {},
   "outputs": [],
   "source": [
    "def convert_video_to_wav(video_file_path, temp_dir_name:str) -> None:\n",
    "    \"\"\" Receives a filename of a video file, isolates the audio portion, and saves said audio\n",
    "    as a .wav file.\"\"\"\n",
    "    video = VideoFileClip(video_file_path)\n",
    "    audio = video.audio\n",
    "    wav_path = os.path.join(temp_dir_name, 'output.wav')\n",
    "    audio.write_audiofile(wav_path)\n",
    "    return wav_path"
   ]
  },
  {
   "cell_type": "code",
   "execution_count": 5,
   "metadata": {},
   "outputs": [],
   "source": [
    "def slice_audio(input_audio_file: str) -> list:\n",
    "    \"\"\"Receives a .wav audio file name and a duration length. Slices the received audio\n",
    "    file in a number of  .wav files equal to the section_duration * the sample rate and\n",
    "    stores them in an array.\"\"\"\n",
    "    window = 0.06\n",
    "    overlap = 0.3\n",
    "\n",
    "    audio, sr = librosa.load(input_audio_file)  # Load the .wav audio\n",
    "    audio_shape = audio.shape[0]\n",
    "    chunk = int(audio_shape * window)\n",
    "    offset = int(chunk * (1 - overlap))\n",
    "    individual_split_song = []\n",
    "\n",
    "    for i in range(0, audio_shape - chunk + offset, offset):\n",
    "        individual_split_song.append(audio[i : i + chunk])\n",
    "\n",
    "    return individual_split_song, chunk, sr"
   ]
  },
  {
   "cell_type": "code",
   "execution_count": 6,
   "metadata": {},
   "outputs": [],
   "source": [
    "def create_spectrograms(individual_split_song, chunk, sr, max_length=78):\n",
    "    split_spects_mel_db = []\n",
    "    for sample in individual_split_song:\n",
    "        if sample.shape[0] != chunk:\n",
    "            continue\n",
    "        mel_spec = librosa.feature.melspectrogram(\n",
    "            y=sample, sr=sr, n_fft=2048, hop_length=512, n_mels=128\n",
    "        )\n",
    "        mel_spec_db = librosa.power_to_db(mel_spec, ref=np.max)\n",
    "\n",
    "        # Pad outputs to ensure uniformity\n",
    "        if mel_spec_db.shape[1] < max_length:\n",
    "            padding = max_length - mel_spec_db.shape[1]\n",
    "            mel_spec_db = np.pad(\n",
    "                mel_spec_db, pad_width=((0, 0), (0, padding)), mode=\"constant\"\n",
    "            )\n",
    "        else:\n",
    "            mel_spec_db = mel_spec_db[:, :max_length]\n",
    "\n",
    "        # split_spects_mel_only.append(mel_spec)\n",
    "        split_spects_mel_db.append(mel_spec_db)\n",
    "\n",
    "    return split_spects_mel_db"
   ]
  },
  {
   "cell_type": "code",
   "execution_count": 7,
   "metadata": {},
   "outputs": [],
   "source": [
    "def process_youtube_link(url: str) -> list:\n",
    "    \"\"\"Runs necessary functions to fully process a received youTube URL.\"\"\"\n",
    "    \n",
    "    with tempfile.TemporaryDirectory(ignore_cleanup_errors=True) as temp_dir_name:\n",
    "        meta, video_file_path = download_video(url, temp_dir_name)\n",
    "        wav_path = convert_video_to_wav(video_file_path, temp_dir_name)\n",
    "        individual_split_song, chunk, sr = slice_audio(wav_path)\n",
    "        split_specs_mel_db = create_spectrograms(individual_split_song, chunk, sr)\n",
    "    return np.array(split_specs_mel_db)\n",
    "        \n",
    "        "
   ]
  },
  {
   "cell_type": "code",
   "execution_count": 8,
   "metadata": {},
   "outputs": [
    {
     "name": "stdout",
     "output_type": "stream",
     "text": [
      "[youtube] Extracting URL: https://www.youtube.com/watch?v=DEJxtwrAhsc&ab_channel=TheDude\n",
      "[youtube] DEJxtwrAhsc: Downloading webpage\n",
      "[youtube] DEJxtwrAhsc: Downloading ios player API JSON\n",
      "[youtube] DEJxtwrAhsc: Downloading android player API JSON\n",
      "[youtube] DEJxtwrAhsc: Downloading m3u8 information\n",
      "[info] DEJxtwrAhsc: Downloading 1 format(s): 614+140\n",
      "[hlsnative] Downloading m3u8 manifest\n",
      "[hlsnative] Total fragments: 57\n",
      "[download] Destination: /var/folders/yn/1ryx5r916kbdyq0ly4_ddqsh0000gn/T/tmprg5doziv/DEJxtwrAhsc.f614.mp4\n",
      "[download] 100% of   11.12MiB in 00:00:04 at 2.74MiB/s                   \n",
      "[download] Destination: /var/folders/yn/1ryx5r916kbdyq0ly4_ddqsh0000gn/T/tmprg5doziv/DEJxtwrAhsc.f140.m4a\n",
      "[download] 100% of    4.68MiB in 00:00:00 at 5.48MiB/s   \n",
      "[Merger] Merging formats into \"/var/folders/yn/1ryx5r916kbdyq0ly4_ddqsh0000gn/T/tmprg5doziv/DEJxtwrAhsc.mp4\"\n",
      "Deleting original file /var/folders/yn/1ryx5r916kbdyq0ly4_ddqsh0000gn/T/tmprg5doziv/DEJxtwrAhsc.f614.mp4 (pass -k to keep)\n",
      "Deleting original file /var/folders/yn/1ryx5r916kbdyq0ly4_ddqsh0000gn/T/tmprg5doziv/DEJxtwrAhsc.f140.m4a (pass -k to keep)\n",
      "MoviePy - Writing audio in /var/folders/yn/1ryx5r916kbdyq0ly4_ddqsh0000gn/T/tmprg5doziv/output.wav\n"
     ]
    },
    {
     "name": "stderr",
     "output_type": "stream",
     "text": [
      "                                                                      \r"
     ]
    },
    {
     "name": "stdout",
     "output_type": "stream",
     "text": [
      "MoviePy - Done.\n"
     ]
    }
   ],
   "source": [
    "process_youtube_link(\"https://www.youtube.com/watch?v=DEJxtwrAhsc&ab_channel=TheDude\")"
   ]
  }
 ],
 "metadata": {
  "kernelspec": {
   "display_name": "Python 3",
   "language": "python",
   "name": "python3"
  },
  "language_info": {
   "codemirror_mode": {
    "name": "ipython",
    "version": 3
   },
   "file_extension": ".py",
   "mimetype": "text/x-python",
   "name": "python",
   "nbconvert_exporter": "python",
   "pygments_lexer": "ipython3",
   "version": "3.10.4"
  }
 },
 "nbformat": 4,
 "nbformat_minor": 2
}
